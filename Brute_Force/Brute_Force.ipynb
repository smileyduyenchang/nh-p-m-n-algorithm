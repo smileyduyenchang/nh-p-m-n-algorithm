{
 "cells": [
  {
   "attachments": {},
   "cell_type": "markdown",
   "metadata": {
    "colab_type": "text",
    "id": "dw29NSYmFpyS"
   },
   "source": [
    "# Brute-Force/Naive.\n",
    "\n",
    "-Phong + Trí"
   ]
  },
  {
   "cell_type": "markdown",
   "metadata": {
    "colab_type": "text",
    "id": "REHkv-y8FpyU"
   },
   "source": [
    "### 1. Pseudo code"
   ]
  },
  {
   "cell_type": "markdown",
   "metadata": {
    "colab_type": "text",
    "id": "e75OMY0KFpyU"
   },
   "source": [
    "```\n",
    "Algorithm BruteForceStringSearch(text, pattern)\n",
    "\n",
    "    for each position in text do\n",
    "        if the substring of text starting at this position matches pattern then\n",
    "            return this position  // pattern found at this position\n",
    "        end\n",
    "    end\n",
    "\n",
    "    return \"pattern not found\"  // pattern not found\n",
    "\n",
    "End\n",
    "```\n"
   ]
  },
  {
   "cell_type": "markdown",
   "metadata": {},
   "source": [
    "**TODO:**\n",
    "- text là chuỗi văn bản cần kiểm tra.\n",
    "- pattern là chuỗi mẫu cần tìm trong text.\n",
    "- n là độ dài của text.\n",
    "- m là độ dài của pattern.\n",
    "- Vòng lặp for duyệt qua từng vị trí trong text, bắt đầu từ vị trí 0 đến n - m.\n",
    "- Trong mỗi vòng lặp, vòng lặp while kiểm tra từng ký tự của pattern có khớp với các ký tự trong text từ vị trí i hay không.\n",
    "- Nếu tất cả các ký tự trong pattern khớp với các ký tự tương ứng trong text, hàm trả về vị trí xuất hiện đầu tiên của pattern trong text.\n",
    "- Nếu không tìm thấy pattern trong text, hàm trả về -1.\n"
   ]
  },
  {
   "cell_type": "markdown",
   "metadata": {
    "colab_type": "text",
    "id": "5l8F4lnjFpyV"
   },
   "source": [
    "### 2. Flow chart\n"
   ]
  },
  {
   "cell_type": "markdown",
   "metadata": {},
   "source": [
    "![Plot of MSE Loss (Y-axis) vs. Predictions (X-axis)](Brute_Force.jfif)"
   ]
  },
  {
   "cell_type": "markdown",
   "metadata": {
    "colab_type": "text",
    "id": "6Tgy-tRYFpyZ"
   },
   "source": [
    "### 3. Time complexity\n"
   ]
  },
  {
   "cell_type": "markdown",
   "metadata": {
    "colab_type": "text",
    "id": "qauCdk7LFpya"
   },
   "source": [
    "#### Cách 1:"
   ]
  },
  {
   "cell_type": "markdown",
   "metadata": {},
   "source": []
  },
  {
   "cell_type": "markdown",
   "metadata": {
    "colab_type": "text",
    "id": "vBFWzeY3Fpyp"
   },
   "source": [
    "#### Cách 2"
   ]
  },
  {
   "cell_type": "markdown",
   "metadata": {
    "colab_type": "text",
    "id": "PLDAEVR8Fpyx"
   },
   "source": [
    "**TODO:**\n",
    "\n",
    " - Gọi T(n) là số phép gán được dùng\n",
    " - Bên ngoài vòng for có 2 phép gán\n",
    " - Gọi Pi là đoạn code trong for.\n",
    "\n",
    "\t=> T(n) = 2 + gán(Pi)\n",
    "\n",
    "\tXét gán (Pi): bên ngoài có 2 phép gán cố định , và vòng lặp for có (n-m+1) phép gán , bên trong vòng lặp for có 1 phép gán cố định, gán Qi (vòng lặp while), bên trong vòng lặp while có m lần lặp\n",
    "\n",
    "\t=> Gán (Qi) = m\n",
    "\n",
    "\t=> Gán (Pi) = (n-m+1)*(m+1)\n",
    "\n",
    "\t=> T(n) = 2 + (n - m + 1)*(m + 1) = n*m - m^2 + n - m + 3 (do n>m)\n",
    "\n",
    "\tNên O(n*m) > O(m^2). Vì vậy time complexity là O(n*m)\n"
   ]
  },
  {
   "cell_type": "markdown",
   "metadata": {
    "colab_type": "text",
    "id": "nVhd2dvCFpzE"
   },
   "source": [
    "#### Cach 3"
   ]
  },
  {
   "cell_type": "markdown",
   "metadata": {
    "colab_type": "text",
    "id": "lTO6ilruFpzH"
   },
   "source": [
    "**TODO**: \n",
    "\n",
    "- Best case: Khi n = m thì time complexity sẽ là O(1).\n",
    "- Worst case: \n",
    "- Average case: \n"
   ]
  }
 ],
 "metadata": {
  "colab": {
   "collapsed_sections": [],
   "name": "Lab01-LinearRegression.ipynb",
   "provenance": []
  },
  "kernelspec": {
   "display_name": "Python 3 (ipykernel)",
   "language": "python",
   "name": "python3"
  },
  "language_info": {
   "codemirror_mode": {
    "name": "ipython",
    "version": 3
   },
   "file_extension": ".py",
   "mimetype": "text/x-python",
   "name": "python",
   "nbconvert_exporter": "python",
   "pygments_lexer": "ipython3",
   "version": "3.12.0"
  }
 },
 "nbformat": 4,
 "nbformat_minor": 1
}
